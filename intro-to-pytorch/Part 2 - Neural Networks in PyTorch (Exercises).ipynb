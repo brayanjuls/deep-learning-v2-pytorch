{
 "cells": [
  {
   "cell_type": "markdown",
   "metadata": {},
   "source": [
    "# Neural networks with PyTorch\n",
    "\n",
    "Deep learning networks tend to be massive with dozens or hundreds of layers, that's where the term \"deep\" comes from. You can build one of these deep networks using only weight matrices as we did in the previous notebook, but in general it's very cumbersome and difficult to implement. PyTorch has a nice module `nn` that provides a nice way to efficiently build large neural networks."
   ]
  },
  {
   "cell_type": "code",
   "execution_count": 2,
   "metadata": {},
   "outputs": [],
   "source": [
    "# Import necessary packages\n",
    "\n",
    "%matplotlib inline\n",
    "%config InlineBackend.figure_format = 'retina'\n",
    "\n",
    "import numpy as np\n",
    "import torch\n",
    "\n",
    "import helper\n",
    "\n",
    "import matplotlib.pyplot as plt"
   ]
  },
  {
   "cell_type": "markdown",
   "metadata": {},
   "source": [
    "\n",
    "Now we're going to build a larger network that can solve a (formerly) difficult problem, identifying text in an image. Here we'll use the MNIST dataset which consists of greyscale handwritten digits. Each image is 28x28 pixels, you can see a sample below\n",
    "\n",
    "<img src='assets/mnist.png'>\n",
    "\n",
    "Our goal is to build a neural network that can take one of these images and predict the digit in the image.\n",
    "\n",
    "First up, we need to get our dataset. This is provided through the `torchvision` package. The code below will download the MNIST dataset, then create training and test datasets for us. Don't worry too much about the details here, you'll learn more about this later."
   ]
  },
  {
   "cell_type": "code",
   "execution_count": 3,
   "metadata": {},
   "outputs": [],
   "source": [
    "### Run this cell\n",
    "\n",
    "from torchvision import datasets, transforms\n",
    "\n",
    "# Define a transform to normalize the data\n",
    "transform = transforms.Compose([transforms.ToTensor(),\n",
    "                              transforms.Normalize((0.5,), (0.5,)),\n",
    "                              ])\n",
    "\n",
    "# Download and load the training data\n",
    "trainset = datasets.MNIST('~/.pytorch/MNIST_data/', download=True, train=True, transform=transform)\n",
    "trainloader = torch.utils.data.DataLoader(trainset, batch_size=64, shuffle=True)"
   ]
  },
  {
   "cell_type": "markdown",
   "metadata": {},
   "source": [
    "We have the training data loaded into `trainloader` and we make that an iterator with `iter(trainloader)`. Later, we'll use this to loop through the dataset for training, like\n",
    "\n",
    "```python\n",
    "for image, label in trainloader:\n",
    "    ## do things with images and labels\n",
    "```\n",
    "\n",
    "You'll notice I created the `trainloader` with a batch size of 64, and `shuffle=True`. The batch size is the number of images we get in one iteration from the data loader and pass through our network, often called a *batch*. And `shuffle=True` tells it to shuffle the dataset every time we start going through the data loader again. But here I'm just grabbing the first batch so we can check out the data. We can see below that `images` is just a tensor with size `(64, 1, 28, 28)`. So, 64 images per batch, 1 color channel, and 28x28 images."
   ]
  },
  {
   "cell_type": "code",
   "execution_count": 4,
   "metadata": {},
   "outputs": [
    {
     "name": "stdout",
     "output_type": "stream",
     "text": [
      "<class 'torch.Tensor'>\n",
      "torch.Size([64, 1, 28, 28])\n",
      "torch.Size([64])\n"
     ]
    }
   ],
   "source": [
    "dataiter = iter(trainloader)\n",
    "images, labels = dataiter.next()\n",
    "print(type(images))\n",
    "print(images.shape)\n",
    "print(labels.shape)"
   ]
  },
  {
   "cell_type": "markdown",
   "metadata": {},
   "source": [
    "This is what one of the images looks like. "
   ]
  },
  {
   "cell_type": "code",
   "execution_count": 6,
   "metadata": {},
   "outputs": [
    {
     "data": {
      "image/png": "[encoded data removed]",
      "text/plain": [
       "<Figure size 432x288 with 1 Axes>"
      ]
     },
     "metadata": {
      "image/png": {
       "height": 250,
       "width": 253
      },
      "needs_background": "light"
     },
     "output_type": "display_data"
    }
   ],
   "source": [
    "plt.imshow(images[1].numpy().squeeze(), cmap='Greys_r');"
   ]
  },
  {
   "cell_type": "markdown",
   "metadata": {},
   "source": [
    "First, let's try to build a simple network for this dataset using weight matrices and matrix multiplications. Then, we'll see how to do it using PyTorch's `nn` module which provides a much more convenient and powerful method for defining network architectures.\n",
    "\n",
    "The networks you've seen so far are called *fully-connected* or *dense* networks. Each unit in one layer is connected to each unit in the next layer. In fully-connected networks, the input to each layer must be a one-dimensional vector (which can be stacked into a 2D tensor as a batch of multiple examples). However, our images are 28x28 2D tensors, so we need to convert them into 1D vectors. Thinking about sizes, we need to convert the batch of images with shape `(64, 1, 28, 28)` to a have a shape of `(64, 784)`, 784 is 28 times 28. This is typically called *flattening*, we flattened the 2D images into 1D vectors.\n",
    "\n",
    "Previously you built a network with one output unit. Here we need 10 output units, one for each digit. We want our network to predict the digit shown in an image, so what we'll do is calculate probabilities that the image is of any one digit or class. This ends up being a discrete probability distribution over the classes (digits) that tells us the most likely class for the image. That means we need 10 output units for the 10 classes (digits). We'll see how to convert the network output into a probability distribution next.\n",
    "\n",
    "> **Exercise:** Flatten the batch of images `images`. Then build a multi-layer network with 784 input units, 256 hidden units, and 10 output units using random tensors for the weights and biases. For now, use a sigmoid activation for the hidden layer. Leave the output layer without an activation, we'll add one that gives us a probability distribution next."
   ]
  },
  {
   "cell_type": "code",
   "execution_count": 17,
   "metadata": {},
   "outputs": [
    {
     "name": "stdout",
     "output_type": "stream",
     "text": [
      "torch.Size([64, 10])\n",
      "tensor([[  1.8006,  -6.0808,  -1.1267, -15.5422,  -2.1730,   7.3433,   1.2196,\n",
      "          -1.9569,   4.9103, -11.4168],\n",
      "        [ -0.7908,   2.9935,   4.3461,  -3.6807,  -1.6963,   3.0988,  -8.8914,\n",
      "         -10.2722,   2.6697,  -6.1653],\n",
      "        [  1.5365,  -4.7265,  -2.9303,  -8.0712,  -4.0334,  10.2594,   1.9295,\n",
      "         -19.3543, -12.6135, -14.3065],\n",
      "        [ -4.3816,  -1.5925,  -4.0978,  -5.0428,   2.0603,  10.6140,   2.2551,\n",
      "         -13.6670,  -0.6897,  -9.0485],\n",
      "        [  4.7475,  -9.9636,   5.4239,  -2.5750,  -7.4782,   6.2939,  -6.5491,\n",
      "         -10.0970,   4.1587, -13.3358],\n",
      "        [  7.9273,  -0.4515,   5.7100,  -4.6387,   0.4351,  15.1102,  -3.5596,\n",
      "          -8.4866,  -5.0658, -15.0990],\n",
      "        [  2.7986,  -8.0852,  -2.5005, -10.1635,   5.2878,  10.0574,  -4.5479,\n",
      "           1.4848,   4.3557,  -4.5751],\n",
      "        [  4.5460,  -8.9710,  -0.9451,  -1.8053,   2.8180,   8.0695,  -7.6774,\n",
      "           3.4752,   1.3471, -14.6498],\n",
      "        [  7.1317,  -3.7091,  -3.1609,   0.6444,  -1.7607,   5.7795, -10.6225,\n",
      "          -6.0826,   4.2690, -10.6552],\n",
      "        [  1.9269,  -7.2490,   3.9527,  -5.7366,  -4.4910,  11.4451, -10.2137,\n",
      "          -9.6471, -11.4580,  -8.3967],\n",
      "        [  1.0307, -11.9720,  -6.6058,  -5.2801,   0.5642,  11.8389,  -2.4385,\n",
      "           0.3913,  12.3541,  -9.1601],\n",
      "        [ -1.3360, -15.2041,  -2.0833,   8.1411,  -2.6217,  11.8762, -11.4899,\n",
      "          -2.5240,   0.0464,   2.6036],\n",
      "        [  1.3727,   2.4929,  -0.0004,  -8.5181,  -3.5239,  10.9294,  -2.2430,\n",
      "           0.2215,   0.5991, -19.7113],\n",
      "        [  4.3062,  -2.1219,   0.9188,   1.8947,  -7.8282,   5.4414,  -4.3592,\n",
      "         -11.2986,   3.7944,  -1.3917],\n",
      "        [ -1.8919,  -6.8655,   4.6353,   0.8486,   2.5713,   8.6446,  -8.2304,\n",
      "         -10.8334,  -4.6931, -14.0224],\n",
      "        [  4.6261,  -8.6867,  -0.5094, -19.1896,  -5.2844,  -2.2002,  -4.8116,\n",
      "          -1.1175,  -0.5957,  -3.0307],\n",
      "        [ -0.6752,  -5.9003,  -0.8759, -10.7016,  -3.6767,  11.1625,   0.2173,\n",
      "         -10.7608,   7.5925,  -7.1570],\n",
      "        [  4.3878,  -4.5059,  -1.3559,  -0.6671,  -3.4769,   6.4739, -11.2783,\n",
      "          -3.9981,   5.1881,  -7.4728],\n",
      "        [ -2.9313,  -5.2958,   2.8542,   0.8293,  -9.7591,   9.3794,  -5.0465,\n",
      "          -5.1301,   4.9532,  -9.2526],\n",
      "        [ -7.4830,  -8.9197,  -1.1373,  -5.6033,  -5.8927,   4.5484,  -4.7772,\n",
      "          -7.0713,  -0.9217,  -6.0899],\n",
      "        [ -1.6894, -10.3261,  -6.1279, -10.9571,  -2.4307,  16.4385,   0.1145,\n",
      "          -6.5821,  -7.9868, -13.4394],\n",
      "        [  5.8824, -11.8391,  12.2241,  -2.8495,  -7.7842,   2.2772, -11.7284,\n",
      "          -4.7575,   6.5580,  -6.3747],\n",
      "        [  1.7342,  -0.5490,   7.4348,  -5.6730,  -5.9245,   5.1269, -11.8879,\n",
      "          -5.9723,  -6.3789, -13.2640],\n",
      "        [ -0.2218,  -1.1893,   4.9883, -10.4630,  -5.9999,  15.5840,  -1.2389,\n",
      "          -6.7212,   4.0998,  -5.7085],\n",
      "        [  5.1767, -11.8720,  -3.2257,  -8.1259, -18.9077,  -8.1854,  -6.2917,\n",
      "         -11.8318,   4.0117,  -6.2303],\n",
      "        [  5.4459,   7.5810,   1.8097,  -8.0223,   0.8133,  12.1694,   1.9986,\n",
      "          -6.3711,   2.1453,  -8.0747],\n",
      "        [ -3.7239, -13.7018,   1.2521,  -8.0954, -10.7978,   1.1818,  -8.3198,\n",
      "          -4.8086,   7.0310,  -8.0835],\n",
      "        [  0.8386,  -4.5241,  -0.8411, -11.1517,  -6.8838,   3.2187,   1.5365,\n",
      "          -7.7184,   6.3435,  -5.6990],\n",
      "        [  0.0562,   0.6285,   9.7015,   2.5603,  -6.1913,   2.9370,  -2.9297,\n",
      "         -13.4212,   4.2192, -10.5233],\n",
      "        [ 10.4800, -16.7315,   5.3712,  -1.1848,  -1.6147,   9.3758, -10.8694,\n",
      "          -5.6787,  -1.9549,  -3.4706],\n",
      "        [ -1.4288, -10.3916,   1.4958,  -9.5666, -12.4776,   7.8073, -14.5639,\n",
      "         -13.6714,  11.8886,  -3.9156],\n",
      "        [  7.9791,  -1.5257,  -0.3384,  -4.7090,  -5.7493,   9.2800,  -1.1027,\n",
      "          -5.4669,  -1.2780,  -9.2342],\n",
      "        [ -2.1676,  -2.6496,   6.5826,  -3.5539,   1.6453,  17.1999,   5.8556,\n",
      "          -9.6523,   0.2010, -10.5810],\n",
      "        [  7.3477,  -1.7416,   4.9701,  -4.9941,  -6.4736,  12.0286,  -5.1764,\n",
      "          -8.0691,   2.1415, -12.4878],\n",
      "        [  4.3584,  -2.6422,   4.0000,  -5.1773, -15.0081,   6.7483,  -9.9557,\n",
      "         -12.1638,   1.6046,   1.6603],\n",
      "        [  5.4333, -15.3513,   8.6755,  -5.8810,   1.1781,   8.4244,  -3.6836,\n",
      "         -15.3344,  -4.2567, -10.2307],\n",
      "        [ -1.9026, -11.6458,   0.9336,  -0.9602,  -8.1020,   7.9707, -12.4071,\n",
      "          -3.7440,   1.2205,  -2.2896],\n",
      "        [  5.4027,  -9.7211,   6.0842,  -0.7718,  -3.6303,   2.9113, -15.4888,\n",
      "          -3.1549,   4.5600, -12.7525],\n",
      "        [ -5.0907, -11.9676,  -5.0931,  -8.4912,  -3.3938,  13.3583, -10.0990,\n",
      "         -11.0849,   3.7882,  -4.7851],\n",
      "        [  6.1450, -11.5920,   2.0399,  -6.5223,  -8.5226,   5.9252,   0.7487,\n",
      "          -6.9519,   0.0019, -16.5526],\n",
      "        [ -3.2823,  -4.5548,  -3.1229, -12.1411,  -4.6673,   6.4880, -11.5164,\n",
      "          -9.5834,   6.9363,  -3.2321],\n",
      "        [  4.6668,  -8.2880,   8.0113,  -6.7131,  -4.1006,   6.6992, -11.3196,\n",
      "          -2.0276,   4.8494,   1.8331],\n",
      "        [  0.4445, -14.6748,  -2.7523,  -8.9178,  -0.6280,   5.8988,   0.6077,\n",
      "         -11.4741,  -3.1174, -11.2598],\n",
      "        [  1.5786,  -7.0152,   5.1747,   0.1857,  -2.6635,   6.4891, -11.3841,\n",
      "          -5.4292,   3.1569,  -8.8559],\n",
      "        [  5.7601, -13.9913,  -3.2718,  -1.0932,  -7.4589,  10.0786,   3.2995,\n",
      "          -6.3800,   9.1173,  -5.1330],\n",
      "        [  2.1451,   0.4585,   2.9061,  -4.7646,  -6.1466,  14.9609,  -8.4368,\n",
      "           2.9927,   7.9815,  -7.0674],\n",
      "        [  4.7963,  -7.4134,   9.4057,  -6.0291,  -6.6763,  13.5015,   3.3059,\n",
      "          -1.4279,  -5.5536, -19.0082],\n",
      "        [ -1.2173,  -5.3631,  -1.4028,  -8.7188,   2.5466,  14.3940,  -1.9590,\n",
      "          -4.2340,   2.2790,  -2.0337],\n",
      "        [  3.0163,   1.7601,  -0.8964,  -1.2036,  -2.7760,   5.9453, -10.4652,\n",
      "         -15.4437,  11.2431,   0.7851],\n",
      "        [ -1.7026,  -1.8765,   5.5499,   3.6074,  -8.5181,  10.6702,  -4.9887,\n",
      "          -7.6002,   2.3961, -10.9509],\n",
      "        [-11.8121,  -5.9824,   5.3593,  -4.8502,   0.4862,   6.5080, -10.8689,\n",
      "          -1.3765,   9.2137,  -1.2440],\n",
      "        [  9.6431,  -2.7693,   0.2028,   2.2547,  -1.2353,   9.1369,  -7.0043,\n",
      "         -10.5669,  10.9461,  -3.7346],\n",
      "        [ -8.8550, -11.4895,  -2.8463,  -4.1758, -13.6311,   3.1117,  -5.7782,\n",
      "          -5.1484,   2.9143,  -5.3738],\n",
      "        [ -0.3357,  -2.3365,  -0.2297,   4.5531,  -4.0019,   5.9852,  -4.6391,\n",
      "          -7.1176,   7.5038,  -5.5483],\n",
      "        [ 15.8021,  -6.9941,   7.2826,   4.6772, -10.4140,  12.3901,   3.9996,\n",
      "          -1.9961,  -3.4650,  -8.6459],\n",
      "        [  8.1813,  -4.5399,   6.4030,   1.5904,  -5.6232,   7.1927,  -3.3488,\n",
      "           4.3132,  -1.3731, -11.8811],\n",
      "        [ -1.3892,  -9.6563,   2.2921, -10.9844, -13.8005,   3.2944,   4.1164,\n",
      "         -11.3191,   7.2015,  -2.3215],\n",
      "        [ -2.8122,  -9.0396,   2.0397,   3.7743,  -4.6587,   8.6539,  -1.7833,\n",
      "          -5.5364,   1.5592, -12.2521],\n",
      "        [  4.2302, -10.8598,   0.4247,   2.0470,  -0.0800,  13.0803, -12.8690,\n",
      "          -9.3596,   3.0085,  -5.5111],\n",
      "        [ -2.0309,  -6.5401,   3.4776,  -3.1541,   2.1908,  10.7446,  -3.1334,\n",
      "          -7.4276,  -0.3937,  -2.1634],\n",
      "        [  2.1189,   0.5039,   9.2312,  -4.9163,   0.9461,   7.1284,   0.3402,\n",
      "         -17.3243,   6.3488,  -6.6838],\n",
      "        [  3.6273,  -6.9325,   4.7741,  -0.5807,   0.0884,   5.7801,  -1.7538,\n",
      "          -8.7009,  -0.4620,  -4.7766],\n",
      "        [ -1.1325,   3.8174,   7.0679, -15.1857,  -2.9464,   9.9235,  -4.8505,\n",
      "          -5.9146,   0.2449, -10.8199],\n",
      "        [  0.9227,  -5.6937,  -1.4285,  -6.8266,   1.7674,   9.6204,  -6.7064,\n",
      "          -7.3232,   9.7043,  -8.5280]])\n"
     ]
    }
   ],
   "source": [
    "## Your solution\n",
    "torch.manual_seed(7)\n",
    "\n",
    "features=images.flatten(start_dim=1)\n",
    "hidden_units=256\n",
    "out_put=10\n",
    "W=torch.randn(features.shape[1],hidden_units)\n",
    "B=torch.randn(1,hidden_units)\n",
    "W2=torch.randn(hidden_units,out_put)\n",
    "B2=torch.randn(1,out_put)\n",
    "\n",
    "\n",
    "def activation(x):\n",
    "    \"\"\" Sigmoid activation function \n",
    "    \n",
    "        Arguments\n",
    "        ---------\n",
    "        x: torch.Tensor\n",
    "    \"\"\"\n",
    "    return 1/(1+torch.exp(-x))\n",
    "\n",
    "\n",
    "\n",
    "h1=activation(torch.mm(features,W)+B)\n",
    "out = torch.mm(h1,W2)+B2# output of your network, should have shape (64,10)\n",
    "print(out.shape)\n",
    "print(out)"
   ]
  },
  {
   "cell_type": "markdown",
   "metadata": {},
   "source": [
    "Now we have 10 outputs for our network. We want to pass in an image to our network and get out a probability distribution over the classes that tells us the likely class(es) the image belongs to. Something that looks like this:\n",
    "<img src='assets/image_distribution.png' width=500px>\n",
    "\n",
    "Here we see that the probability for each class is roughly the same. This is representing an untrained network, it hasn't seen any data yet so it just returns a uniform distribution with equal probabilities for each class.\n",
    "\n",
    "To calculate this probability distribution, we often use the [**softmax** function](https://en.wikipedia.org/wiki/Softmax_function). Mathematically this looks like\n",
    "\n",
    "$$\n",
    "\\Large \\sigma(x_i) = \\cfrac{e^{x_i}}{\\sum_k^K{e^{x_k}}}\n",
    "$$\n",
    "\n",
    "What this does is squish each input $x_i$ between 0 and 1 and normalizes the values to give you a proper probability distribution where the probabilites sum up to one.\n",
    "\n",
    "> **Exercise:** Implement a function `softmax` that performs the softmax calculation and returns probability distributions for each example in the batch. Note that you'll need to pay attention to the shapes when doing this. If you have a tensor `a` with shape `(64, 10)` and a tensor `b` with shape `(64,)`, doing `a/b` will give you an error because PyTorch will try to do the division across the columns (called broadcasting) but you'll get a size mismatch. The way to think about this is for each of the 64 examples, you only want to divide by one value, the sum in the denominator. So you need `b` to have a shape of `(64, 1)`. This way PyTorch will divide the 10 values in each row of `a` by the one value in each row of `b`. Pay attention to how you take the sum as well. You'll need to define the `dim` keyword in `torch.sum`. Setting `dim=0` takes the sum across the rows while `dim=1` takes the sum across the columns."
   ]
  },
  {
   "cell_type": "code",
   "execution_count": 16,
   "metadata": {},
   "outputs": [
    {
     "name": "stdout",
     "output_type": "stream",
     "text": [
      "torch.Size([64, 10])\n",
      "tensor([1.0000, 1.0000, 1.0000, 1.0000, 1.0000, 1.0000, 1.0000, 1.0000, 1.0000,\n",
      "        1.0000, 1.0000, 1.0000, 1.0000, 1.0000, 1.0000, 1.0000, 1.0000, 1.0000,\n",
      "        1.0000, 1.0000, 1.0000, 1.0000, 1.0000, 1.0000, 1.0000, 1.0000, 1.0000,\n",
      "        1.0000, 1.0000, 1.0000, 1.0000, 1.0000, 1.0000, 1.0000, 1.0000, 1.0000,\n",
      "        1.0000, 1.0000, 1.0000, 1.0000, 1.0000, 1.0000, 1.0000, 1.0000, 1.0000,\n",
      "        1.0000, 1.0000, 1.0000, 1.0000, 1.0000, 1.0000, 1.0000, 1.0000, 1.0000,\n",
      "        1.0000, 1.0000, 1.0000, 1.0000, 1.0000, 1.0000, 1.0000, 1.0000, 1.0000,\n",
      "        1.0000])\n"
     ]
    }
   ],
   "source": [
    "def softmax(x):\n",
    "    e_x=torch.sum(torch.exp(x),dim=1).view(-1,1)\n",
    "    return torch.exp(x)/e_x\n",
    "    ## TODO: Implement the softmax function here\n",
    "\n",
    "# Here, out should be the output of the network in the previous excercise with shape (64,10)\n",
    "probabilities = softmax(out)\n",
    "\n",
    "# Does it have the right shape? Should be (64, 10)\n",
    "print(probabilities.shape)\n",
    "# Does it sum to 1?\n",
    "print(probabilities.sum(dim=1))"
   ]
  },
  {
   "cell_type": "code",
   "execution_count": 36,
   "metadata": {},
   "outputs": [
    {
     "name": "stdout",
     "output_type": "stream",
     "text": [
      "[[3 0 5]\n",
      " [4 3 2]\n",
      " [2 0 2]]\n",
      "[[3]\n",
      " [0]\n",
      " [5]\n",
      " [4]\n",
      " [3]\n",
      " [2]\n",
      " [2]\n",
      " [0]\n",
      " [2]]\n"
     ]
    }
   ],
   "source": [
    "testArr=np.random.randint(6,size=(3,3))\n",
    "print(testArr)\n",
    "print(testArr.reshape(9,1))"
   ]
  },
  {
   "cell_type": "markdown",
   "metadata": {},
   "source": [
    "## Building networks with PyTorch\n",
    "\n",
    "PyTorch provides a module `nn` that makes building networks much simpler. Here I'll show you how to build the same one as above with 784 inputs, 256 hidden units, 10 output units and a softmax output."
   ]
  },
  {
   "cell_type": "code",
   "execution_count": 37,
   "metadata": {},
   "outputs": [],
   "source": [
    "from torch import nn"
   ]
  },
  {
   "cell_type": "code",
   "execution_count": 39,
   "metadata": {},
   "outputs": [],
   "source": [
    "class Network(nn.Module):\n",
    "    def __init__(self):\n",
    "        super().__init__()\n",
    "        \n",
    "        # Inputs to hidden layer linear transformation\n",
    "        self.hidden = nn.Linear(784, 256)\n",
    "        # Output layer, 10 units - one for each digit\n",
    "        self.output = nn.Linear(256, 10)\n",
    "        \n",
    "        # Define sigmoid activation and softmax output \n",
    "        self.sigmoid = nn.Sigmoid()\n",
    "        self.softmax = nn.Softmax(dim=1)\n",
    "        \n",
    "    def forward(self, x):\n",
    "        # Pass the input tensor through each of our operations\n",
    "        x = self.hidden(x)\n",
    "        x = self.sigmoid(x)\n",
    "        x = self.output(x)\n",
    "        x = self.softmax(x)\n",
    "        \n",
    "        return x"
   ]
  },
  {
   "cell_type": "markdown",
   "metadata": {},
   "source": [
    "Let's go through this bit by bit.\n",
    "\n",
    "```python\n",
    "class Network(nn.Module):\n",
    "```\n",
    "\n",
    "Here we're inheriting from `nn.Module`. Combined with `super().__init__()` this creates a class that tracks the architecture and provides a lot of useful methods and attributes. It is mandatory to inherit from `nn.Module` when you're creating a class for your network. The name of the class itself can be anything.\n",
    "\n",
    "```python\n",
    "self.hidden = nn.Linear(784, 256)\n",
    "```\n",
    "\n",
    "This line creates a module for a linear transformation, $x\\mathbf{W} + b$, with 784 inputs and 256 outputs and assigns it to `self.hidden`. The module automatically creates the weight and bias tensors which we'll use in the `forward` method. You can access the weight and bias tensors once the network (`net`) is created with `net.hidden.weight` and `net.hidden.bias`.\n",
    "\n",
    "```python\n",
    "self.output = nn.Linear(256, 10)\n",
    "```\n",
    "\n",
    "Similarly, this creates another linear transformation with 256 inputs and 10 outputs.\n",
    "\n",
    "```python\n",
    "self.sigmoid = nn.Sigmoid()\n",
    "self.softmax = nn.Softmax(dim=1)\n",
    "```\n",
    "\n",
    "Here I defined operations for the sigmoid activation and softmax output. Setting `dim=1` in `nn.Softmax(dim=1)` calculates softmax across the columns.\n",
    "\n",
    "```python\n",
    "def forward(self, x):\n",
    "```\n",
    "\n",
    "PyTorch networks created with `nn.Module` must have a `forward` method defined. It takes in a tensor `x` and passes it through the operations you defined in the `__init__` method.\n",
    "\n",
    "```python\n",
    "x = self.hidden(x)\n",
    "x = self.sigmoid(x)\n",
    "x = self.output(x)\n",
    "x = self.softmax(x)\n",
    "```\n",
    "\n",
    "Here the input tensor `x` is passed through each operation a reassigned to `x`. We can see that the input tensor goes through the hidden layer, then a sigmoid function, then the output layer, and finally the softmax function. It doesn't matter what you name the variables here, as long as the inputs and outputs of the operations match the network architecture you want to build. The order in which you define things in the `__init__` method doesn't matter, but you'll need to sequence the operations correctly in the `forward` method.\n",
    "\n",
    "Now we can create a `Network` object."
   ]
  },
  {
   "cell_type": "code",
   "execution_count": 40,
   "metadata": {},
   "outputs": [
    {
     "data": {
      "text/plain": [
       "Network(\n",
       "  (hidden): Linear(in_features=784, out_features=256, bias=True)\n",
       "  (output): Linear(in_features=256, out_features=10, bias=True)\n",
       "  (sigmoid): Sigmoid()\n",
       "  (softmax): Softmax()\n",
       ")"
      ]
     },
     "execution_count": 40,
     "metadata": {},
     "output_type": "execute_result"
    }
   ],
   "source": [
    "# Create the network and look at it's text representation\n",
    "model = Network()\n",
    "model"
   ]
  },
  {
   "cell_type": "markdown",
   "metadata": {},
   "source": [
    "You can define the network somewhat more concisely and clearly using the `torch.nn.functional` module. This is the most common way you'll see networks defined as many operations are simple element-wise functions. We normally import this module as `F`, `import torch.nn.functional as F`."
   ]
  },
  {
   "cell_type": "code",
   "execution_count": 56,
   "metadata": {},
   "outputs": [],
   "source": [
    "import torch.nn.functional as F\n",
    "\n",
    "class Network(nn.Module):\n",
    "    def __init__(self):\n",
    "        super().__init__()\n",
    "        # Inputs to hidden layer linear transformation\n",
    "        self.hidden = nn.Linear(784, 256)\n",
    "        # Output layer, 10 units - one for each digit\n",
    "        self.output = nn.Linear(256, 10)\n",
    "        \n",
    "    def forward(self, x):\n",
    "        # Hidden layer with sigmoid activation\n",
    "        x = F.sigmoid(self.hidden(x))\n",
    "        # Output layer with softmax activation\n",
    "        x = F.softmax(self.output(x), dim=1)\n",
    "        \n",
    "        return x"
   ]
  },
  {
   "cell_type": "markdown",
   "metadata": {},
   "source": [
    "### Activation functions\n",
    "\n",
    "So far we've only been looking at the softmax activation, but in general any function can be used as an activation function. The only requirement is that for a network to approximate a non-linear function, the activation functions must be non-linear. Here are a few more examples of common activation functions: Tanh (hyperbolic tangent), and ReLU (rectified linear unit).\n",
    "\n",
    "<img src=\"assets/activation.png\" width=700px>\n",
    "\n",
    "In practice, the ReLU function is used almost exclusively as the activation function for hidden layers."
   ]
  },
  {
   "cell_type": "markdown",
   "metadata": {},
   "source": [
    "### Your Turn to Build a Network\n",
    "\n",
    "<img src=\"assets/mlp_mnist.png\" width=600px>\n",
    "\n",
    "> **Exercise:** Create a network with 784 input units, a hidden layer with 128 units and a ReLU activation, then a hidden layer with 64 units and a ReLU activation, and finally an output layer with a softmax activation as shown above. You can use a ReLU activation with the `nn.ReLU` module or `F.relu` function."
   ]
  },
  {
   "cell_type": "code",
   "execution_count": 80,
   "metadata": {
    "scrolled": true
   },
   "outputs": [
    {
     "data": {
      "text/plain": [
       "ComplexNetWork(\n",
       "  (hidden1): Linear(in_features=784, out_features=128, bias=True)\n",
       "  (hidden2): Linear(in_features=128, out_features=64, bias=True)\n",
       "  (output): Linear(in_features=64, out_features=10, bias=True)\n",
       ")"
      ]
     },
     "execution_count": 80,
     "metadata": {},
     "output_type": "execute_result"
    }
   ],
   "source": [
    "import torch.nn.functional as F\n",
    "## Your solution here\n",
    "class ComplexNetWork(nn.Module):\n",
    "    def __init__(selft):\n",
    "        super().__init__()\n",
    "        selft.hidden1 = nn.Linear(784,128)\n",
    "        selft.hidden2 = nn.Linear(128,64)\n",
    "        selft.output=nn.Linear(64,10)\n",
    "\n",
    "    def forward(selft,x):\n",
    "        x = F.relu(selft.hidden1(x))\n",
    "        x = F.relu(selft.hidden2(x))\n",
    "        x = F.softmax(selft.output(x),dim=1)\n",
    "        return x\n",
    "\n",
    "model= ComplexNetWork()\n",
    "model"
   ]
  },
  {
   "cell_type": "markdown",
   "metadata": {},
   "source": [
    "### Initializing weights and biases\n",
    "\n",
    "The weights and such are automatically initialized for you, but it's possible to customize how they are initialized. The weights and biases are tensors attached to the layer you defined, you can get them with `model.fc1.weight` for instance."
   ]
  },
  {
   "cell_type": "code",
   "execution_count": 81,
   "metadata": {},
   "outputs": [
    {
     "name": "stdout",
     "output_type": "stream",
     "text": [
      "Parameter containing:\n",
      "tensor([[-0.0028, -0.0225, -0.0030,  ..., -0.0316, -0.0332,  0.0143],\n",
      "        [ 0.0255, -0.0068, -0.0228,  ...,  0.0071, -0.0272,  0.0120],\n",
      "        [-0.0080, -0.0343,  0.0183,  ...,  0.0199, -0.0087,  0.0288],\n",
      "        ...,\n",
      "        [-0.0228, -0.0170,  0.0152,  ...,  0.0189,  0.0252,  0.0318],\n",
      "        [-0.0222, -0.0075, -0.0255,  ..., -0.0132,  0.0061, -0.0163],\n",
      "        [ 0.0274,  0.0232, -0.0130,  ..., -0.0084, -0.0354,  0.0012]],\n",
      "       requires_grad=True)\n",
      "Parameter containing:\n",
      "tensor([-0.0288, -0.0294, -0.0065, -0.0178,  0.0310,  0.0279,  0.0101, -0.0013,\n",
      "         0.0117, -0.0350,  0.0054, -0.0064,  0.0038,  0.0151,  0.0283,  0.0291,\n",
      "        -0.0033,  0.0163, -0.0003,  0.0074,  0.0019,  0.0160,  0.0227,  0.0234,\n",
      "         0.0183,  0.0239, -0.0222,  0.0137,  0.0178,  0.0148,  0.0306, -0.0265,\n",
      "        -0.0033, -0.0172,  0.0198,  0.0022,  0.0163,  0.0192, -0.0233, -0.0319,\n",
      "         0.0128, -0.0276, -0.0349, -0.0160,  0.0160,  0.0217,  0.0344,  0.0188,\n",
      "        -0.0255,  0.0049, -0.0080, -0.0170, -0.0098, -0.0013, -0.0155, -0.0100,\n",
      "         0.0283, -0.0343, -0.0234, -0.0004,  0.0207, -0.0170,  0.0071,  0.0030,\n",
      "        -0.0167, -0.0178, -0.0080,  0.0204, -0.0049, -0.0087, -0.0313, -0.0235,\n",
      "         0.0327,  0.0287, -0.0280,  0.0293,  0.0319,  0.0318, -0.0138,  0.0031,\n",
      "        -0.0307, -0.0123, -0.0064,  0.0111, -0.0313,  0.0060,  0.0104,  0.0235,\n",
      "        -0.0233, -0.0062, -0.0030,  0.0116,  0.0124, -0.0198,  0.0115, -0.0192,\n",
      "        -0.0258,  0.0078, -0.0202, -0.0182, -0.0356, -0.0048, -0.0352, -0.0001,\n",
      "         0.0279,  0.0333, -0.0276,  0.0268, -0.0349, -0.0252,  0.0172,  0.0195,\n",
      "         0.0195, -0.0340,  0.0010, -0.0106,  0.0049,  0.0288, -0.0189, -0.0138,\n",
      "         0.0019, -0.0206,  0.0185,  0.0160, -0.0185, -0.0141, -0.0257,  0.0269],\n",
      "       requires_grad=True)\n"
     ]
    }
   ],
   "source": [
    "print(model.hidden1.weight)\n",
    "print(model.hidden1.bias)"
   ]
  },
  {
   "cell_type": "markdown",
   "metadata": {},
   "source": [
    "For custom initialization, we want to modify these tensors in place. These are actually autograd *Variables*, so we need to get back the actual tensors with `model.fc1.weight.data`. Once we have the tensors, we can fill them with zeros (for biases) or random normal values."
   ]
  },
  {
   "cell_type": "code",
   "execution_count": 83,
   "metadata": {},
   "outputs": [
    {
     "data": {
      "text/plain": [
       "tensor([0., 0., 0., 0., 0., 0., 0., 0., 0., 0., 0., 0., 0., 0., 0., 0., 0., 0.,\n",
       "        0., 0., 0., 0., 0., 0., 0., 0., 0., 0., 0., 0., 0., 0., 0., 0., 0., 0.,\n",
       "        0., 0., 0., 0., 0., 0., 0., 0., 0., 0., 0., 0., 0., 0., 0., 0., 0., 0.,\n",
       "        0., 0., 0., 0., 0., 0., 0., 0., 0., 0., 0., 0., 0., 0., 0., 0., 0., 0.,\n",
       "        0., 0., 0., 0., 0., 0., 0., 0., 0., 0., 0., 0., 0., 0., 0., 0., 0., 0.,\n",
       "        0., 0., 0., 0., 0., 0., 0., 0., 0., 0., 0., 0., 0., 0., 0., 0., 0., 0.,\n",
       "        0., 0., 0., 0., 0., 0., 0., 0., 0., 0., 0., 0., 0., 0., 0., 0., 0., 0.,\n",
       "        0., 0.])"
      ]
     },
     "execution_count": 83,
     "metadata": {},
     "output_type": "execute_result"
    }
   ],
   "source": [
    "# Set biases to all zeros\n",
    "model.hidden1.bias.data.fill_(0)"
   ]
  },
  {
   "cell_type": "code",
   "execution_count": 84,
   "metadata": {},
   "outputs": [
    {
     "data": {
      "text/plain": [
       "tensor([[-0.0152, -0.0054,  0.0007,  ..., -0.0050,  0.0114,  0.0041],\n",
       "        [ 0.0002,  0.0101,  0.0161,  ...,  0.0083, -0.0078, -0.0031],\n",
       "        [ 0.0117,  0.0147,  0.0128,  ..., -0.0026,  0.0141, -0.0050],\n",
       "        ...,\n",
       "        [-0.0113, -0.0089, -0.0020,  ...,  0.0015, -0.0160,  0.0035],\n",
       "        [-0.0025, -0.0046,  0.0068,  ...,  0.0017, -0.0162, -0.0271],\n",
       "        [-0.0042,  0.0025, -0.0149,  ..., -0.0104,  0.0046,  0.0101]])"
      ]
     },
     "execution_count": 84,
     "metadata": {},
     "output_type": "execute_result"
    }
   ],
   "source": [
    "# sample from random normal with standard dev = 0.01\n",
    "model.hidden1.weight.data.normal_(std=0.01)"
   ]
  },
  {
   "cell_type": "markdown",
   "metadata": {},
   "source": [
    "### Forward pass\n",
    "\n",
    "Now that we have a network, let's see what happens when we pass in an image."
   ]
  },
  {
   "cell_type": "code",
   "execution_count": 85,
   "metadata": {},
   "outputs": [
    {
     "name": "stdout",
     "output_type": "stream",
     "text": [
      "torch.Size([1, 784])\n"
     ]
    },
    {
     "data": {
      "image/png": "[encoded data removed]",
      "text/plain": [
       "<Figure size 432x648 with 2 Axes>"
      ]
     },
     "metadata": {
      "image/png": {
       "height": 226,
       "width": 423
      },
      "needs_background": "light"
     },
     "output_type": "display_data"
    }
   ],
   "source": [
    "# Grab some data \n",
    "dataiter = iter(trainloader)\n",
    "images, labels = dataiter.next()\n",
    "\n",
    "# Resize images into a 1D vector, new shape is (batch size, color channels, image pixels) \n",
    "images.resize_(64, 1, 784)\n",
    "# or images.resize_(images.shape[0], 1, 784) to automatically get batch size\n",
    "\n",
    "# Forward pass through the network\n",
    "img_idx = 0\n",
    "print(images[img_idx,:].shape)\n",
    "ps = model.forward(images[img_idx,:])\n",
    "\n",
    "img = images[img_idx]\n",
    "helper.view_classify(img.view(1, 28, 28), ps)"
   ]
  },
  {
   "cell_type": "markdown",
   "metadata": {},
   "source": [
    "As you can see above, our network has basically no idea what this digit is. It's because we haven't trained it yet, all the weights are random!\n",
    "\n",
    "### Using `nn.Sequential`\n",
    "\n",
    "PyTorch provides a convenient way to build networks like this where a tensor is passed sequentially through operations, `nn.Sequential` ([documentation](https://pytorch.org/docs/master/nn.html#torch.nn.Sequential)). Using this to build the equivalent network:"
   ]
  },
  {
   "cell_type": "code",
   "execution_count": 86,
   "metadata": {},
   "outputs": [
    {
     "name": "stdout",
     "output_type": "stream",
     "text": [
      "Sequential(\n",
      "  (0): Linear(in_features=784, out_features=128, bias=True)\n",
      "  (1): ReLU()\n",
      "  (2): Linear(in_features=128, out_features=64, bias=True)\n",
      "  (3): ReLU()\n",
      "  (4): Linear(in_features=64, out_features=10, bias=True)\n",
      "  (5): Softmax()\n",
      ")\n"
     ]
    },
    {
     "data": {
      "image/png": "[encoded data removed]",
      "text/plain": [
       "<Figure size 432x648 with 2 Axes>"
      ]
     },
     "metadata": {
      "image/png": {
       "height": 226,
       "width": 423
      },
      "needs_background": "light"
     },
     "output_type": "display_data"
    }
   ],
   "source": [
    "# Hyperparameters for our network\n",
    "input_size = 784\n",
    "hidden_sizes = [128, 64]\n",
    "output_size = 10\n",
    "\n",
    "# Build a feed-forward network\n",
    "model = nn.Sequential(nn.Linear(input_size, hidden_sizes[0]),\n",
    "                      nn.ReLU(),\n",
    "                      nn.Linear(hidden_sizes[0], hidden_sizes[1]),\n",
    "                      nn.ReLU(),\n",
    "                      nn.Linear(hidden_sizes[1], output_size),\n",
    "                      nn.Softmax(dim=1))\n",
    "print(model)\n",
    "\n",
    "# Forward pass through the network and display output\n",
    "images, labels = next(iter(trainloader))\n",
    "images.resize_(images.shape[0], 1, 784)\n",
    "ps = model.forward(images[0,:])\n",
    "helper.view_classify(images[0].view(1, 28, 28), ps)"
   ]
  },
  {
   "cell_type": "markdown",
   "metadata": {},
   "source": [
    "Here our model is the same as before: 784 input units, a hidden layer with 128 units, ReLU activation, 64 unit hidden layer, another ReLU, then the output layer with 10 units, and the softmax output.\n",
    "\n",
    "The operations are availble by passing in the appropriate index. For example, if you want to get first Linear operation and look at the weights, you'd use `model[0]`."
   ]
  },
  {
   "cell_type": "code",
   "execution_count": 87,
   "metadata": {},
   "outputs": [
    {
     "name": "stdout",
     "output_type": "stream",
     "text": [
      "Linear(in_features=784, out_features=128, bias=True)\n"
     ]
    },
    {
     "data": {
      "text/plain": [
       "Parameter containing:\n",
       "tensor([[ 0.0122,  0.0111, -0.0134,  ..., -0.0107,  0.0223, -0.0135],\n",
       "        [ 0.0121, -0.0226,  0.0112,  ...,  0.0355, -0.0053,  0.0306],\n",
       "        [ 0.0342,  0.0067,  0.0274,  ..., -0.0150,  0.0275,  0.0193],\n",
       "        ...,\n",
       "        [-0.0135,  0.0144,  0.0041,  ..., -0.0238, -0.0316, -0.0146],\n",
       "        [ 0.0072,  0.0036, -0.0329,  ...,  0.0086, -0.0085, -0.0266],\n",
       "        [ 0.0081,  0.0292, -0.0019,  ...,  0.0155, -0.0327, -0.0187]],\n",
       "       requires_grad=True)"
      ]
     },
     "execution_count": 87,
     "metadata": {},
     "output_type": "execute_result"
    }
   ],
   "source": [
    "print(model[0])\n",
    "model[0].weight"
   ]
  },
  {
   "cell_type": "markdown",
   "metadata": {},
   "source": [
    "You can also pass in an `OrderedDict` to name the individual layers and operations, instead of using incremental integers. Note that dictionary keys must be unique, so _each operation must have a different name_."
   ]
  },
  {
   "cell_type": "code",
   "execution_count": 89,
   "metadata": {},
   "outputs": [
    {
     "data": {
      "text/plain": [
       "Sequential(\n",
       "  (fc1): Linear(in_features=784, out_features=128, bias=True)\n",
       "  (relu1): ReLU()\n",
       "  (fc2): Linear(in_features=128, out_features=64, bias=True)\n",
       "  (relu2): ReLU()\n",
       "  (output): Linear(in_features=64, out_features=10, bias=True)\n",
       "  (softmax): Softmax()\n",
       ")"
      ]
     },
     "execution_count": 89,
     "metadata": {},
     "output_type": "execute_result"
    }
   ],
   "source": [
    "from collections import OrderedDict\n",
    "model = nn.Sequential(OrderedDict([\n",
    "                      ('fc1', nn.Linear(input_size, hidden_sizes[0])),\n",
    "                      ('relu1', nn.ReLU()),\n",
    "                      ('fc2', nn.Linear(hidden_sizes[0], hidden_sizes[1])),\n",
    "                      ('relu2', nn.ReLU()),\n",
    "                      ('output', nn.Linear(hidden_sizes[1], output_size)),\n",
    "                      ('softmax', nn.Softmax(dim=1))]))\n",
    "model"
   ]
  },
  {
   "cell_type": "markdown",
   "metadata": {},
   "source": [
    "Now you can access layers either by integer or the name"
   ]
  },
  {
   "cell_type": "code",
   "execution_count": 90,
   "metadata": {},
   "outputs": [
    {
     "name": "stdout",
     "output_type": "stream",
     "text": [
      "Linear(in_features=784, out_features=128, bias=True)\n",
      "Linear(in_features=784, out_features=128, bias=True)\n"
     ]
    }
   ],
   "source": [
    "print(model[0])\n",
    "print(model.fc1)"
   ]
  },
  {
   "cell_type": "markdown",
   "metadata": {},
   "source": [
    "In the next notebook, we'll see how we can train a neural network to accuractly predict the numbers appearing in the MNIST images."
   ]
  }
 ],
 "metadata": {
  "kernelspec": {
   "display_name": "Python [default]",
   "language": "python",
   "name": "python3"
  },
  "language_info": {
   "codemirror_mode": {
    "name": "ipython",
    "version": 3
   },
   "file_extension": ".py",
   "mimetype": "text/x-python",
   "name": "python",
   "nbconvert_exporter": "python",
   "pygments_lexer": "ipython3",
   "version": "3.7.0"
  }
 },
 "nbformat": 4,
 "nbformat_minor": 2
}
